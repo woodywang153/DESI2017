{
 "cells": [
  {
   "cell_type": "code",
   "execution_count": 215,
   "metadata": {},
   "outputs": [],
   "source": [
    "# Follows the style and format of desimodel.io.py\n",
    "_gfa = None\n",
    "def load_gfa():\n",
    "    \"\"\"Returns GFA table from desimodel/data/focalplane/gfa.ecsv\"\"\"\n",
    "    global _gfa\n",
    "    from astropy.table import Table\n",
    "    # os is imported already in the desimodel io.py\n",
    "    import os\n",
    "    if _gfa is None:\n",
    "        gfaFile = os.path.join(os.environ['DESIMODEL'], 'data', 'focalplane', 'gfa1.ecsv')\n",
    "        _gfa = Table.read(gfaFile, format = 'ascii.ecsv')\n",
    "    return _gfa\n",
    "\n",
    "def plot_gfa(gfa, petal = None):\n",
    "    \"\"\"\n",
    "    Plots the GFA at a certain petal or all the GFAs depending on \n",
    "    the respective parameters.\n",
    "    Parameters\n",
    "    ----------\n",
    "    gfa: Astropy Table object with the petal number, corner number, and x, y, and z \n",
    "    coordinates of the GFAs\n",
    "    petal: optional integer parameter which specifies which petal to plot\n",
    "    \"\"\"\n",
    "    title('GFA Overhead View')\n",
    "    plt.xlabel('mm')\n",
    "    plt.ylabel('mm')\n",
    "    gfaCoord = numpy.zeros(shape=(4, 2))\n",
    "    \n",
    "    if(type(petal) != int):\n",
    "        raise TypeError(\"Please enter an integer value\")\n",
    "    elif(petal < 0 or petal > 9):\n",
    "        raise ValueError(\"Please enter a petal value between 0 and 9\")\n",
    "    elif(petal <= 9 and petal >= 0):\n",
    "        index = petal * 4\n",
    "        for j in range(4):\n",
    "            gfaCoord[j] = [gfa['X'][index], gfa['Y'][index]]\n",
    "            plot(gfa['X'][index], gfa['Y'][index], 'k.')\n",
    "            index += 1\n",
    "        draw_single_gfa(gfaCoord)\n",
    "    else:\n",
    "        counter = 0\n",
    "        for i in range(40):\n",
    "            gfaCoord[counter % 4] = [gfa['X'][i], gfa['Y'][i]]\n",
    "            plot(gfa['X'][i], gfa['Y'][i], 'k.')\n",
    "            counter += 1\n",
    "            if ((counter % 4) == 0):\n",
    "                draw_single_gfa(gfaCoord)\n",
    "    plot()\n",
    "    \n",
    "def draw_single_gfa(gfaCoord):\n",
    "    \"\"\"\n",
    "    Draws a single GFA given a 4X2 array of coordinates for the four corners of a GFA\n",
    "    Parameters\n",
    "    ----------\n",
    "    gfaCoord: 4X2 array of x and y coordinates with each row representing a corner of the GFA\n",
    "    \"\"\"\n",
    "    # Prints all of the GFA coordinates for debugging\n",
    "    #print(GFAcoord) \n",
    "    gfaPolygon = Polygon(gfaCoord)\n",
    "    plt.gca().add_patch(gfaPolygon)\n",
    "    \n",
    "    \n",
    "def plot_focal_plane():\n",
    "    \"\"\"\n",
    "    Plots a 2D representation of the focal plane with the 5000 fiberpositioners\n",
    "    and the 10 GFAs\n",
    "    \"\"\"\n",
    "    #%pylab\n",
    "    #import desimodel.io\n",
    "    # Plots the location of each of the fiber positioners\n",
    "    fp = desimodel.io.load_fiberpos()\n",
    "    plot(fp['X'],fp['Y'], 'g.')\n",
    "    \n",
    "    gfa = load_gfa()\n",
    "    plot_gfa(gfa)\n",
    "    title('Focal Plane Overhead View')\n",
    "    \n"
   ]
  },
  {
   "cell_type": "code",
   "execution_count": 216,
   "metadata": {},
   "outputs": [
    {
     "name": "stdout",
     "output_type": "stream",
     "text": [
      "Using matplotlib backend: MacOSX\n",
      "Populating the interactive namespace from numpy and matplotlib\n"
     ]
    }
   ],
   "source": [
    "# Debugging lines to test if functions work\n",
    "\n",
    "#import desimodel.io\n",
    "#fp = load_fiberpos()\n",
    "#plot(fp['X'], fp['Y'], 'g.')\n",
    "#gfa = load_gfa()\n",
    "#plot_gfa(gfa)\n",
    "\n",
    "plotFocalPlane()\n"
   ]
  }
 ],
 "metadata": {
  "kernelspec": {
   "display_name": "Python 3",
   "language": "python",
   "name": "python3"
  },
  "language_info": {
   "codemirror_mode": {
    "name": "ipython",
    "version": 3
   },
   "file_extension": ".py",
   "mimetype": "text/x-python",
   "name": "python",
   "nbconvert_exporter": "python",
   "pygments_lexer": "ipython3",
   "version": "3.6.1"
  }
 },
 "nbformat": 4,
 "nbformat_minor": 2
}
