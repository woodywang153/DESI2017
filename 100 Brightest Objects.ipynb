{
 "cells": [
  {
   "cell_type": "code",
   "execution_count": 11,
   "metadata": {},
   "outputs": [
    {
     "name": "stdout",
     "output_type": "stream",
     "text": [
      "[1]\n",
      "[1]\n",
      "[1]\n",
      "[1]\n",
      "[1]\n",
      "[1]\n",
      "[1]\n",
      "[1]\n",
      "[1]\n",
      "[1]\n",
      "[1]\n",
      "[1]\n",
      "[1]\n",
      "[1]\n",
      "[1]\n",
      "[1]\n",
      "[1]\n",
      "[1]\n",
      "[1]\n",
      "[1]\n",
      "[1]\n",
      "[1]\n",
      "[1]\n",
      "[1]\n",
      "[1]\n",
      "[1]\n",
      "[1]\n",
      "[1]\n",
      "[1]\n"
     ]
    }
   ],
   "source": [
    "# Identify the list of GFAs with the 100 brightest objects on them\n",
    "def findBrightestObjects(sweepname):\n",
    "    from astropy.io import fits\n",
    "    from astropy.table import Table\n",
    "    sweep = Table.read(sweepname)\n",
    "    import desimodel.io\n",
    "    import desimodel.footprint\n",
    "    tiles = desimodel.io.load_tiles()\n",
    "    points = desimodel.footprint.find_points_in_tiles(tiles, sweep['RA'], sweep['DEC'], 1.651)\n",
    "    counter = 0\n",
    "    for lists in points:\n",
    "        if lists:\n",
    "            #test if on gfa\n",
    "        counter += 1\n",
    "sweepname = 'sweep-280p050-290p055.fits'\n",
    "findBrightestObjects(sweepname)"
   ]
  }
 ],
 "metadata": {
  "kernelspec": {
   "display_name": "Python 3",
   "language": "python",
   "name": "python3"
  },
  "language_info": {
   "codemirror_mode": {
    "name": "ipython",
    "version": 3
   },
   "file_extension": ".py",
   "mimetype": "text/x-python",
   "name": "python",
   "nbconvert_exporter": "python",
   "pygments_lexer": "ipython3",
   "version": "3.6.1"
  }
 },
 "nbformat": 4,
 "nbformat_minor": 2
}
