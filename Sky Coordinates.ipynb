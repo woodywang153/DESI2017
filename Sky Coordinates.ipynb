{
 "cells": [
  {
   "cell_type": "code",
   "execution_count": 207,
   "metadata": {},
   "outputs": [
    {
     "name": "stdout",
     "output_type": "stream",
     "text": [
      "Using matplotlib backend: MacOSX\n",
      "Populating the interactive namespace from numpy and matplotlib\n",
      "407.483930723\n",
      "1.6057735024174122\n",
      "('radius', 'theta', 'radial_platescale', 'az_platescale')\n",
      "398.50104567\n",
      "1.5731300326614939\n"
     ]
    }
   ],
   "source": [
    "%pylab\n",
    "import scipy.interpolate\n",
    "import desimodel.focalplane\n",
    "r = desimodel.focalplane.get_tile_radius_mm()\n",
    "theta = desimodel.focalplane.get_tile_radius_deg()\n",
    "print(r)\n",
    "print(theta)\n",
    "\n",
    "# Test calculation to find degrees from tile radius\n",
    "# Test point in x and y (333.738, 217.766)\n",
    "x = 333.738\n",
    "y = 217.766\n",
    "\n",
    "radius = np.sqrt(x**2 + y**2)\n",
    "platescale = desimodel.io.load_platescale()\n",
    "plot(platescale['radius'], platescale['theta'], 'k.')\n",
    "#plot(platescale['radius'], platescale['radial_platescale'], 'k.')\n",
    "print(platescale.dtype.names)\n",
    "fn = scipy.interpolate.interp1d(platescale['radius'], platescale['theta'], kind = 'quadratic')\n",
    "degree = float(fn(radius))\n",
    "print(radius)\n",
    "print(degree)"
   ]
  },
  {
   "cell_type": "code",
   "execution_count": 208,
   "metadata": {
    "collapsed": true
   },
   "outputs": [],
   "source": [
    "#%pylab\n",
    "#import scipy.interpolate\n",
    "def get_radius_mm(theta):\n",
    "    \"\"\"\n",
    "    Returns the radius in mm given an radius in degrees using the platescale data \n",
    "    relative to the center of the focal plane as (0,0)\n",
    "    Parameters\n",
    "    ----------\n",
    "    theta: A float that represents the angle from the center of the focal plane\n",
    "    \"\"\"\n",
    "    platescale = desimodel.io.load_platescale()\n",
    "    # Uses a quadratic one-dimensional interpolation to approximate the radius in degrees versus radius in mm\n",
    "    fn = scipy.interpolate.interp1d(platescale['theta'], platescale['radius'], kind = 'quadratic')\n",
    "    radius = float(fn(theta))\n",
    "    return radius\n",
    "def get_radius_deg(x, y):\n",
    "    \"\"\"\n",
    "    Returns the radius in degrees given x, y coordinates using the platescale data\n",
    "    Parameters\n",
    "    ----------\n",
    "    x: The x coordinate in mm of a location on the focal plane\n",
    "    y: The y coordinate in mm of a location on the focal plane\n",
    "    \"\"\"\n",
    "    radius = np.sqrt(x**2 + y**2)\n",
    "    platescale = desimodel.io.load_platescale()\n",
    "    # Plots are used for debugging. \n",
    "    #Radius vs theta seems to fit a linear curve better than a quadratic curve\n",
    "    #plot(platescale['radius'], platescale['theta'], 'k.')\n",
    "    #plot(platescale['radius'], platescale['radial_platescale'], 'k.')\n",
    "    fn = scipy.interpolate.interp1d(platescale['radius'], platescale['theta'], kind = 'quadratic')\n",
    "    degree = float(fn(radius))\n",
    "    return degree"
   ]
  },
  {
   "cell_type": "code",
   "execution_count": 209,
   "metadata": {},
   "outputs": [
    {
     "data": {
      "text/plain": [
       "398.5010456698936"
      ]
     },
     "execution_count": 209,
     "metadata": {},
     "output_type": "execute_result"
    }
   ],
   "source": [
    "degree = get_radius_deg(333.738, 217.766)\n",
    "degree\n",
    "radius = get_radius_mm(1.5731300326614939)\n",
    "radius"
   ]
  },
  {
   "cell_type": "code",
   "execution_count": 210,
   "metadata": {
    "collapsed": true
   },
   "outputs": [],
   "source": [
    "def plot_focal_plane_deg(): \n",
    "    # ONLY USED HERE RIGHT NOW BECAUSE LOAD_GFA() HAS NOT BEEN PUSHED\n",
    "    #gfa = desimodel.io.load_gfa()\n",
    "    import desimodel.io\n",
    "    %pylab\n",
    "    import os\n",
    "    from astropy.table import Table\n",
    "    gfaFile = os.path.join(os.environ['DESIMODEL'], 'data', 'focalplane', 'gfa.ecsv')\n",
    "    gfa = Table.read(gfaFile, format = 'ascii.ecsv')\n",
    "    \n",
    "    x = gfa['X']\n",
    "    y = gfa['Y']\n",
    "    polarCoord = numpy.zeros(shape=(4, 2))\n",
    "   \n",
    "    for i in range(40):\n",
    "        theta = cartesian_to_polar_angle(gfa['X'][i], gfa['Y'][i])\n",
    "        # degree is the radius in degrees\n",
    "        degree = get_radius_deg(gfa['X'][i], gfa['Y'][i])\n",
    "        pyplot.polar(theta, degree, 'k.')\n",
    "        print(str(theta) + \", \" + str(degree))\n",
    "            \n",
    "def cartesian_to_polar_angle(x, y):\n",
    "    \"\"\"\n",
    "    Given cartesian coordinates, this function returns the polar angle in radians\n",
    "    for use in polar coordinates\n",
    "    Parameters\n",
    "    ----------\n",
    "    x: The x coordinate in mm of a location on the focal plane\n",
    "    y: The y coordinate in mm of a location on the focal plane\n",
    "    \"\"\"\n",
    "    # Prevents division by 0\n",
    "    if(x == 0):\n",
    "        if(y > 0):\n",
    "            return pi / 2\n",
    "        else:\n",
    "            return -3 * pi / 2\n",
    "    # Case for quadrant 1\n",
    "    elif(x > 0 and y >= 0):\n",
    "        return arctan(y / x)\n",
    "    # Case for quadrants 2 and 3\n",
    "    elif(x < 0):\n",
    "        return arctan(y / x) + pi\n",
    "    # Case for quadrant 4\n",
    "    elif(x > 0 and y <= 0):\n",
    "        return arctan(y / x) + (2 * pi)\n",
    "    else:\n",
    "        raise ValueError\n",
    "                 "
   ]
  },
  {
   "cell_type": "code",
   "execution_count": 211,
   "metadata": {},
   "outputs": [
    {
     "name": "stdout",
     "output_type": "stream",
     "text": [
      "Using matplotlib backend: MacOSX\n",
      "Populating the interactive namespace from numpy and matplotlib\n",
      "5.01466880391, 1.5442653007113043\n",
      "5.01511681016, 1.5999816327965595\n",
      "4.93964145344, 1.605412322045817\n",
      "4.93625746441, 1.5499547905665962\n",
      "5.64298733463, 1.5442653007107656\n",
      "5.64343534088, 1.5999816327985812\n",
      "5.56795998416, 1.6054123220450447\n",
      "5.56457599513, 1.5499547905673787\n",
      "6.27130586534, 1.5442653007112055\n",
      "6.2717538716, 1.599981632798625\n",
      "6.19627851488, 1.6054123220443666\n",
      "6.19289452584, 1.5499547905675013\n",
      "0.61643908888, 1.5442653007105875\n",
      "0.616887095135, 1.5999816327958547\n",
      "0.541411738413, 1.6054123220450414\n",
      "0.538027749381, 1.5499547905651592\n",
      "1.2447576196, 1.5442653007112732\n",
      "1.24520562585, 1.5999816327975414\n",
      "1.16973026913, 1.6054123220451335\n",
      "1.1663462801, 1.5499547905657294\n",
      "1.87307615032, 1.5442653007113043\n",
      "1.87352415657, 1.5999816327965595\n",
      "1.79804879985, 1.605412322045817\n",
      "1.79466481082, 1.5499547905665962\n",
      "2.50139468104, 1.5442653007107656\n",
      "2.50184268729, 1.5999816327985812\n",
      "2.42636733057, 1.6054123220450447\n",
      "2.42298334154, 1.5499547905673787\n",
      "3.12971321175, 1.5442653007112055\n",
      "3.13016121801, 1.599981632798625\n",
      "3.05468586129, 1.6054123220443666\n",
      "3.05130187225, 1.5499547905675013\n",
      "3.75803174247, 1.5442653007105875\n",
      "3.75847974872, 1.5999816327958547\n",
      "3.683004392, 1.6054123220450414\n",
      "3.67962040297, 1.5499547905651592\n",
      "4.38635027319, 1.5442653007112732\n",
      "4.38679827944, 1.5999816327975414\n",
      "4.31132292272, 1.6054123220451335\n",
      "4.30793893369, 1.5499547905657294\n"
     ]
    }
   ],
   "source": [
    "plot_focal_plane_deg()"
   ]
  }
 ],
 "metadata": {
  "kernelspec": {
   "display_name": "Python 3",
   "language": "python",
   "name": "python3"
  },
  "language_info": {
   "codemirror_mode": {
    "name": "ipython",
    "version": 3
   },
   "file_extension": ".py",
   "mimetype": "text/x-python",
   "name": "python",
   "nbconvert_exporter": "python",
   "pygments_lexer": "ipython3",
   "version": "3.6.1"
  }
 },
 "nbformat": 4,
 "nbformat_minor": 2
}
