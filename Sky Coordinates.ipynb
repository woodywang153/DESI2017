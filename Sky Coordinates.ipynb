{
 "cells": [
  {
   "cell_type": "code",
   "execution_count": 516,
   "metadata": {
    "collapsed": true
   },
   "outputs": [],
   "source": [
    "#%pylab\n",
    "#import scipy.interpolate\n",
    "def get_radius_mm(theta):\n",
    "    \"\"\"\n",
    "    Returns the radius in mm given an radius in degrees using the platescale data \n",
    "    relative to the center of the focal plane as (0,0)\n",
    "    Parameters\n",
    "    ----------\n",
    "    theta: A float that represents the angle from the center of the focal plane\n",
    "    \"\"\"\n",
    "    platescale = desimodel.io.load_platescale()\n",
    "    # Uses a quadratic one-dimensional interpolation to approximate the radius in degrees versus radius in mm\n",
    "    fn = scipy.interpolate.interp1d(platescale['theta'], platescale['radius'], kind = 'quadratic')\n",
    "    radius = float(fn(theta))\n",
    "    return radius\n",
    "def get_radius_deg(x, y):\n",
    "    \"\"\"\n",
    "    Returns the radius in degrees given x, y coordinates using the platescale data\n",
    "    Parameters\n",
    "    ----------\n",
    "    x: The x coordinate in mm of a location on the focal plane\n",
    "    y: The y coordinate in mm of a location on the focal plane\n",
    "    \"\"\"\n",
    "    radius = np.sqrt(x**2 + y**2)\n",
    "    platescale = desimodel.io.load_platescale()\n",
    "    # Plots are used for debugging. \n",
    "    #Radius vs theta seems to fit a linear curve better than a quadratic curve\n",
    "    #plot(platescale['radius'], platescale['theta'], 'k.')\n",
    "    #plot(platescale['radius'], platescale['radial_platescale'], 'k.')\n",
    "    fn = scipy.interpolate.interp1d(platescale['radius'], platescale['theta'], kind = 'quadratic')\n",
    "    degree = float(fn(radius))\n",
    "    return degree\n",
    "\n",
    "def cartesian_to_polar_angle(x, y):\n",
    "    \"\"\"\n",
    "    Given cartesian coordinates, this function returns the polar angle in degrees\n",
    "    for use in polar coordinates\n",
    "    Parameters\n",
    "    ----------\n",
    "    x: The x coordinate in mm of a location on the focal plane\n",
    "    y: The y coordinate in mm of a location on the focal plane\n",
    "    \"\"\"\n",
    "    # Prevents division by 0\n",
    "    if(x == 0):\n",
    "        if(y > 0):\n",
    "            return 90\n",
    "        else:\n",
    "            return 270\n",
    "    # Case for quadrant 1\n",
    "    elif(x > 0 and y >= 0):\n",
    "        return arctan(y / x) * 180 / pi\n",
    "    # Case for quadrants 2 and 3\n",
    "    elif(x < 0):\n",
    "        return (arctan(y / x) * 180 / pi) + 180\n",
    "    # Case for quadrant 4\n",
    "    elif(x > 0 and y <= 0):\n",
    "        return (arctan(y / x) * 180 / pi) + 360\n",
    "    else:\n",
    "        raise ValueError"
   ]
  },
  {
   "cell_type": "code",
   "execution_count": 517,
   "metadata": {},
   "outputs": [
    {
     "data": {
      "text/plain": [
       "398.5010456698936"
      ]
     },
     "execution_count": 517,
     "metadata": {},
     "output_type": "execute_result"
    }
   ],
   "source": [
    "degree = get_radius_deg(333.738, 217.766)\n",
    "degree\n",
    "radius = get_radius_mm(1.5731300326614939)\n",
    "radius"
   ]
  },
  {
   "cell_type": "code",
   "execution_count": 518,
   "metadata": {},
   "outputs": [],
   "source": [
    "def plot_focal_plane_deg(): \n",
    "    \"\"\"\n",
    "    Plots the focal plane in degrees using the gfa Table object read in with the astropy library\n",
    "    \"\"\"\n",
    "    # ONLY USED HERE RIGHT NOW BECAUSE LOAD_GFA() HAS NOT BEEN PUSHED\n",
    "    #gfa = desimodel.io.load_gfa()\n",
    "    import desimodel.io\n",
    "    %pylab\n",
    "    import os\n",
    "    from astropy.table import Table\n",
    "    gfaFile = os.path.join(os.environ['DESIMODEL'], 'data', 'focalplane', 'gfa.ecsv')\n",
    "    gfa = Table.read(gfaFile, format = 'ascii.ecsv')\n",
    "    \n",
    "    \"\"\"\n",
    "    # BEGIN WORKING HERE AFTER LUNCH!!!!!!!\n",
    "    graph = pyplot.polar()\n",
    "    lines, labels = pyplot.thetagrids(angles = 30, labels = None, fmt = '%d', frac = 1.1)\n",
    "    print(labels)\n",
    "    pyplot.show()\n",
    "    \"\"\"\n",
    "    pyplot.polar()\n",
    "    title('GFA Overhead View in Degrees')\n",
    "    # Theta is in degrees\n",
    "    theta = gfa['Q']\n",
    "    degree = gfa['RADIUS_DEG']\n",
    "    print(gfa)\n",
    "   \n",
    "    for i in range(40):\n",
    "        thetaradians = theta[i] * pi / 180\n",
    "        pyplot.polar(thetaradians, degree[i], 'k.')\n",
    "        \n",
    "        # Used for debugging to print the angle in radians and the radius in degrees\n",
    "        #print(str(theta[i]) + \", \" + str(degree[i]))\n",
    "        \n",
    "                 "
   ]
  },
  {
   "cell_type": "code",
   "execution_count": 519,
   "metadata": {},
   "outputs": [
    {
     "name": "stdout",
     "output_type": "stream",
     "text": [
      "Using matplotlib backend: MacOSX\n",
      "Populating the interactive namespace from numpy and matplotlib\n",
      "PETAL CORNER       X        ...       Q         RADIUS_DEG    RADIUS_MM  \n",
      "                   mm       ...    degrees                               \n",
      "----- ------ -------------- ... ------------- ------------- -------------\n",
      "    0      0  116.279135121 ...  287.31935812 1.54426530071 390.595017971\n",
      "    0      1  121.005023896 ... 287.345026987  1.5999816328 405.886737469\n",
      "    0      2   91.784287159 ...  283.02060759 1.60541232205 407.384285137\n",
      "    0      3  87.0587074141 ... 282.826719301 1.54995479057 392.150643917\n",
      "    1      0  313.248421438 ...  323.31935812 1.54426530071 390.595017971\n",
      "    1      1  325.620626724 ... 323.345026987  1.5999816328 405.886737469\n",
      "    1      2  307.552931346 ...  319.02060759 1.60541232205 407.384285137\n",
      "    1      3  295.180417053 ... 318.826719301 1.54995479057 392.150643917\n",
      "    2      0  390.567457688 ...  359.31935812 1.54426530071 390.595017971\n",
      "    2      1  405.860217581 ... 359.345026987  1.5999816328 405.886737469\n",
      "  ...    ...            ... ...           ...           ...           ...\n",
      "    7      2 -405.846809099 ...  175.02060759 1.60541232205 407.384285137\n",
      "    7      3 -390.553240191 ... 174.826719301 1.54995479057 392.150643917\n",
      "    8      0 -318.703000001 ...  215.31935812 1.54426530071 390.595017971\n",
      "    8      1 -331.075000003 ... 215.345026987  1.5999816328 405.886737469\n",
      "    8      2 -349.121000002 ...  211.02060759 1.60541232205 407.384285137\n",
      "    8      3 -336.747999992 ... 210.826719301 1.54995479057 392.150643917\n",
      "    9      0  -125.10482863 ...  251.31935812 1.54426530071 390.595017971\n",
      "    9      1  -129.83038525 ... 251.345026987  1.5999816328 405.886737469\n",
      "    9      2  -159.04283509 ...  247.02060759 1.60541232205 407.384285137\n",
      "    9      3  -154.31646944 ... 246.826719301 1.54995479057 392.150643917\n",
      "Length = 40 rows\n"
     ]
    }
   ],
   "source": [
    "plot_focal_plane_deg()"
   ]
  }
 ],
 "metadata": {
  "kernelspec": {
   "display_name": "Python 3",
   "language": "python",
   "name": "python3"
  },
  "language_info": {
   "codemirror_mode": {
    "name": "ipython",
    "version": 3
   },
   "file_extension": ".py",
   "mimetype": "text/x-python",
   "name": "python",
   "nbconvert_exporter": "python",
   "pygments_lexer": "ipython3",
   "version": "3.6.1"
  }
 },
 "nbformat": 4,
 "nbformat_minor": 2
}
